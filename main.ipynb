{
 "cells": [
  {
   "cell_type": "code",
   "execution_count": 2,
   "metadata": {},
   "outputs": [],
   "source": [
    "import torch\n",
    "import os\n",
    "from torchvision import datasets, transforms\n",
    "from torch.utils.data import DataLoader, Dataset\n",
    "from sklearn.model_selection import train_test_split"
   ]
  },
  {
   "cell_type": "code",
   "execution_count": 11,
   "metadata": {},
   "outputs": [],
   "source": [
    "class ShapesDatasets(Dataset):\n",
    "    def __init__(self, root_dir, transform=None):\n",
    "        self.datasets = datasets.ImageFolder(root=root_dir, transform=transform)\n",
    "    \n",
    "    def __len__(self):\n",
    "        return len(self.datasets)\n",
    "    \n",
    "    def __getitem__(self, idx):\n",
    "        return self.datasets[idx]"
   ]
  },
  {
   "cell_type": "code",
   "execution_count": 12,
   "metadata": {},
   "outputs": [],
   "source": [
    "transform = transforms.Compose([\n",
    "    transforms.Resize((28, 28)),\n",
    "\n",
    "    transforms.RandomHorizontalFlip(p=0.5),\n",
    "\n",
    "    transforms.ToTensor(),\n",
    "    transforms.Normalize((0.5,), (0.5,))\n",
    "])"
   ]
  },
  {
   "cell_type": "code",
   "execution_count": 13,
   "metadata": {},
   "outputs": [],
   "source": [
    "file_path = \"./Datasets/shapes/\"\n",
    "dataset = ShapesDatasets(root_dir=file_path, transform=transform)"
   ]
  },
  {
   "cell_type": "code",
   "execution_count": 14,
   "metadata": {},
   "outputs": [
    {
     "data": {
      "text/plain": [
       "300"
      ]
     },
     "execution_count": 14,
     "metadata": {},
     "output_type": "execute_result"
    }
   ],
   "source": [
    "len(dataset)"
   ]
  },
  {
   "cell_type": "code",
   "execution_count": 16,
   "metadata": {},
   "outputs": [
    {
     "data": {
      "text/plain": [
       "([232, 59, 6, 185, 173], [203, 266, 152, 9, 233])"
      ]
     },
     "execution_count": 16,
     "metadata": {},
     "output_type": "execute_result"
    }
   ],
   "source": [
    "train_indices, test_indices = train_test_split(range(len(dataset)), test_size=0.2, random_state=42)\n",
    "train_indices[:5], test_indices[:5]"
   ]
  },
  {
   "cell_type": "code",
   "execution_count": 17,
   "metadata": {},
   "outputs": [],
   "source": [
    "import torch.utils\n",
    "import torch.utils.data\n",
    "\n",
    "\n",
    "train_loader = DataLoader(dataset, batch_size=16, sampler=torch.utils.data.RandomSampler(train_indices))\n",
    "\n",
    "test_loader = DataLoader(dataset, batch_size=16, sampler=torch.utils.data.SequentialSampler(test_indices))"
   ]
  },
  {
   "cell_type": "code",
   "execution_count": 18,
   "metadata": {},
   "outputs": [
    {
     "name": "stdout",
     "output_type": "stream",
     "text": [
      "Batch images shapes:  torch.Size([16, 3, 28, 28])\n",
      "Batch labels shapes:  torch.Size([16])\n",
      "Batch images shapes:  torch.Size([16, 3, 28, 28])\n",
      "Batch labels shapes:  torch.Size([16])\n",
      "Batch images shapes:  torch.Size([16, 3, 28, 28])\n",
      "Batch labels shapes:  torch.Size([16])\n",
      "Batch images shapes:  torch.Size([16, 3, 28, 28])\n",
      "Batch labels shapes:  torch.Size([16])\n",
      "Batch images shapes:  torch.Size([16, 3, 28, 28])\n",
      "Batch labels shapes:  torch.Size([16])\n",
      "Batch images shapes:  torch.Size([16, 3, 28, 28])\n",
      "Batch labels shapes:  torch.Size([16])\n",
      "Batch images shapes:  torch.Size([16, 3, 28, 28])\n",
      "Batch labels shapes:  torch.Size([16])\n",
      "Batch images shapes:  torch.Size([16, 3, 28, 28])\n",
      "Batch labels shapes:  torch.Size([16])\n",
      "Batch images shapes:  torch.Size([16, 3, 28, 28])\n",
      "Batch labels shapes:  torch.Size([16])\n",
      "Batch images shapes:  torch.Size([16, 3, 28, 28])\n",
      "Batch labels shapes:  torch.Size([16])\n",
      "Batch images shapes:  torch.Size([16, 3, 28, 28])\n",
      "Batch labels shapes:  torch.Size([16])\n",
      "Batch images shapes:  torch.Size([16, 3, 28, 28])\n",
      "Batch labels shapes:  torch.Size([16])\n",
      "Batch images shapes:  torch.Size([16, 3, 28, 28])\n",
      "Batch labels shapes:  torch.Size([16])\n",
      "Batch images shapes:  torch.Size([16, 3, 28, 28])\n",
      "Batch labels shapes:  torch.Size([16])\n",
      "Batch images shapes:  torch.Size([16, 3, 28, 28])\n",
      "Batch labels shapes:  torch.Size([16])\n"
     ]
    }
   ],
   "source": [
    "for images, labels in train_loader:\n",
    "    print(\"Batch images shapes: \", images.shape)\n",
    "    print(\"Batch labels shapes: \", labels.shape)"
   ]
  },
  {
   "cell_type": "code",
   "execution_count": null,
   "metadata": {},
   "outputs": [],
   "source": []
  }
 ],
 "metadata": {
  "kernelspec": {
   "display_name": "env_1",
   "language": "python",
   "name": "python3"
  },
  "language_info": {
   "codemirror_mode": {
    "name": "ipython",
    "version": 3
   },
   "file_extension": ".py",
   "mimetype": "text/x-python",
   "name": "python",
   "nbconvert_exporter": "python",
   "pygments_lexer": "ipython3",
   "version": "3.10.14"
  }
 },
 "nbformat": 4,
 "nbformat_minor": 2
}
