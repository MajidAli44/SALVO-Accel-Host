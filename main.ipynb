{
 "cells": [
  {
   "cell_type": "code",
   "execution_count": 21,
   "metadata": {},
   "outputs": [],
   "source": [
    "import torch\n",
    "import os\n",
    "from torchvision import datasets, transforms\n",
    "from torch.utils.data import DataLoader, Dataset\n",
    "from sklearn.model_selection import train_test_split"
   ]
  },
  {
   "cell_type": "code",
   "execution_count": 22,
   "metadata": {},
   "outputs": [],
   "source": [
    "class ShapesDatasets(Dataset):\n",
    "    def __init__(self, root_dir, transform=None):\n",
    "        self.datasets = datasets.ImageFolder(root=root_dir, transform=transform)\n",
    "    \n",
    "    def __len__(self):\n",
    "        return len(self.datasets)\n",
    "    \n",
    "    def __getitem__(self, idx):\n",
    "        return self.datasets[idx]"
   ]
  },
  {
   "cell_type": "code",
   "execution_count": 23,
   "metadata": {},
   "outputs": [],
   "source": [
    "transform = transforms.Compose([\n",
    "    transforms.Resize((28, 28)),\n",
    "\n",
    "    transforms.RandomHorizontalFlip(p=0.5),\n",
    "\n",
    "    transforms.ToTensor(),\n",
    "    transforms.Normalize((0.5,), (0.5,))\n",
    "])"
   ]
  },
  {
   "cell_type": "code",
   "execution_count": 24,
   "metadata": {},
   "outputs": [],
   "source": [
    "file_path = \"./Datasets/shapes/\"\n",
    "dataset = ShapesDatasets(root_dir=file_path, transform=transform)"
   ]
  },
  {
   "cell_type": "code",
   "execution_count": 25,
   "metadata": {},
   "outputs": [
    {
     "data": {
      "text/plain": [
       "300"
      ]
     },
     "execution_count": 25,
     "metadata": {},
     "output_type": "execute_result"
    }
   ],
   "source": [
    "len(dataset)"
   ]
  },
  {
   "cell_type": "code",
   "execution_count": 26,
   "metadata": {},
   "outputs": [
    {
     "data": {
      "text/plain": [
       "([232, 59, 6, 185, 173], [203, 266, 152, 9, 233])"
      ]
     },
     "execution_count": 26,
     "metadata": {},
     "output_type": "execute_result"
    }
   ],
   "source": [
    "train_indices, test_indices = train_test_split(range(len(dataset)), test_size=0.2, random_state=42)\n",
    "train_indices[:5], test_indices[:5]"
   ]
  },
  {
   "cell_type": "code",
   "execution_count": 27,
   "metadata": {},
   "outputs": [],
   "source": [
    "import torch.utils\n",
    "import torch.utils.data\n",
    "\n",
    "\n",
    "train_loader = DataLoader(dataset, batch_size=16, sampler=torch.utils.data.RandomSampler(train_indices))\n",
    "\n",
    "test_loader = DataLoader(dataset, batch_size=16, sampler=torch.utils.data.SequentialSampler(test_indices))"
   ]
  },
  {
   "cell_type": "code",
   "execution_count": 28,
   "metadata": {},
   "outputs": [
    {
     "name": "stdout",
     "output_type": "stream",
     "text": [
      "Batch images shapes:  torch.Size([16, 3, 28, 28])\n",
      "Batch labels shapes:  torch.Size([16])\n",
      "Batch images shapes:  torch.Size([16, 3, 28, 28])\n",
      "Batch labels shapes:  torch.Size([16])\n",
      "Batch images shapes:  torch.Size([16, 3, 28, 28])\n",
      "Batch labels shapes:  torch.Size([16])\n",
      "Batch images shapes:  torch.Size([16, 3, 28, 28])\n",
      "Batch labels shapes:  torch.Size([16])\n",
      "Batch images shapes:  torch.Size([16, 3, 28, 28])\n",
      "Batch labels shapes:  torch.Size([16])\n",
      "Batch images shapes:  torch.Size([16, 3, 28, 28])\n",
      "Batch labels shapes:  torch.Size([16])\n",
      "Batch images shapes:  torch.Size([16, 3, 28, 28])\n",
      "Batch labels shapes:  torch.Size([16])\n",
      "Batch images shapes:  torch.Size([16, 3, 28, 28])\n",
      "Batch labels shapes:  torch.Size([16])\n",
      "Batch images shapes:  torch.Size([16, 3, 28, 28])\n",
      "Batch labels shapes:  torch.Size([16])\n",
      "Batch images shapes:  torch.Size([16, 3, 28, 28])\n",
      "Batch labels shapes:  torch.Size([16])\n",
      "Batch images shapes:  torch.Size([16, 3, 28, 28])\n",
      "Batch labels shapes:  torch.Size([16])\n",
      "Batch images shapes:  torch.Size([16, 3, 28, 28])\n",
      "Batch labels shapes:  torch.Size([16])\n",
      "Batch images shapes:  torch.Size([16, 3, 28, 28])\n",
      "Batch labels shapes:  torch.Size([16])\n",
      "Batch images shapes:  torch.Size([16, 3, 28, 28])\n",
      "Batch labels shapes:  torch.Size([16])\n",
      "Batch images shapes:  torch.Size([16, 3, 28, 28])\n",
      "Batch labels shapes:  torch.Size([16])\n"
     ]
    }
   ],
   "source": [
    "for images, labels in train_loader:\n",
    "    print(\"Batch images shapes: \", images.shape)\n",
    "    print(\"Batch labels shapes: \", labels.shape)"
   ]
  },
  {
   "cell_type": "code",
   "execution_count": 29,
   "metadata": {},
   "outputs": [
    {
     "data": {
      "text/plain": [
       "209"
      ]
     },
     "execution_count": 29,
     "metadata": {},
     "output_type": "execute_result"
    }
   ],
   "source": [
    "index = torch.randint(len(dataset), size=(1,)).item()\n",
    "index"
   ]
  },
  {
   "cell_type": "code",
   "execution_count": 30,
   "metadata": {},
   "outputs": [],
   "source": [
    "import matplotlib.pyplot as plt"
   ]
  },
  {
   "cell_type": "code",
   "execution_count": 31,
   "metadata": {},
   "outputs": [
    {
     "data": {
      "text/plain": [
       "(2, torch.Size([3, 28, 28]))"
      ]
     },
     "execution_count": 31,
     "metadata": {},
     "output_type": "execute_result"
    }
   ],
   "source": [
    "image, label = dataset[index]\n",
    "label, image.shape"
   ]
  },
  {
   "cell_type": "code",
   "execution_count": 32,
   "metadata": {},
   "outputs": [
    {
     "data": {
      "text/plain": [
       "(28, 28, 3)"
      ]
     },
     "execution_count": 32,
     "metadata": {},
     "output_type": "execute_result"
    }
   ],
   "source": [
    "image = image.permute(1,2,0).numpy()\n",
    "image.shape"
   ]
  },
  {
   "cell_type": "code",
   "execution_count": 33,
   "metadata": {},
   "outputs": [
    {
     "name": "stderr",
     "output_type": "stream",
     "text": [
      "Clipping input data to the valid range for imshow with RGB data ([0..1] for floats or [0..255] for integers).\n"
     ]
    },
    {
     "data": {
      "text/plain": [
       "<matplotlib.image.AxesImage at 0x71c708b87010>"
      ]
     },
     "execution_count": 33,
     "metadata": {},
     "output_type": "execute_result"
    },
    {
     "data": {
      "image/png": "[encoded data removed]",
      "text/plain": [
       "<Figure size 640x480 with 1 Axes>"
      ]
     },
     "metadata": {},
     "output_type": "display_data"
    }
   ],
   "source": [
    "plt.imshow(0.5 * image * 0.5)"
   ]
  },
  {
   "cell_type": "code",
   "execution_count": 34,
   "metadata": {},
   "outputs": [
    {
     "name": "stderr",
     "output_type": "stream",
     "text": [
      "Clipping input data to the valid range for imshow with RGB data ([0..1] for floats or [0..255] for integers).\n",
      "Clipping input data to the valid range for imshow with RGB data ([0..1] for floats or [0..255] for integers).\n",
      "Clipping input data to the valid range for imshow with RGB data ([0..1] for floats or [0..255] for integers).\n",
      "Clipping input data to the valid range for imshow with RGB data ([0..1] for floats or [0..255] for integers).\n",
      "Clipping input data to the valid range for imshow with RGB data ([0..1] for floats or [0..255] for integers).\n",
      "Clipping input data to the valid range for imshow with RGB data ([0..1] for floats or [0..255] for integers).\n",
      "Clipping input data to the valid range for imshow with RGB data ([0..1] for floats or [0..255] for integers).\n",
      "Clipping input data to the valid range for imshow with RGB data ([0..1] for floats or [0..255] for integers).\n",
      "Clipping input data to the valid range for imshow with RGB data ([0..1] for floats or [0..255] for integers).\n",
      "Clipping input data to the valid range for imshow with RGB data ([0..1] for floats or [0..255] for integers).\n"
     ]
    },
    {
     "data": {
      "image/png": "[encoded data removed]",
      "text/plain": [
       "<Figure size 1200x200 with 10 Axes>"
      ]
     },
     "metadata": {},
     "output_type": "display_data"
    }
   ],
   "source": [
    "def show_samples(dataset, num_samples=5):\n",
    "    fig, axes = plt.subplots(1, num_samples, figsize=(12,2))\n",
    "\n",
    "    for i in range(num_samples):\n",
    "        index = torch.randint(len(dataset), size=(1,)).item()\n",
    "        image, label = dataset[index]\n",
    "        image = image.permute(1, 2, 0).numpy()\n",
    "        image = 0.5 * image * 0.5\n",
    "        axes[i].imshow(image)\n",
    "        axes[i].set_title(f\"label: {label}\")\n",
    "        axes[i].axis('off')\n",
    "    plt.show()\n",
    "\n",
    "show_samples(dataset, 10)"
   ]
  },
  {
   "cell_type": "code",
   "execution_count": 35,
   "metadata": {},
   "outputs": [],
   "source": [
    "import torch\n",
    "import torch.nn as nn\n",
    "import torch.optim as optim"
   ]
  },
  {
   "cell_type": "code",
   "execution_count": 36,
   "metadata": {},
   "outputs": [],
   "source": [
    "class CNN(nn.Module):\n",
    "    def __init__(self):\n",
    "        super(CNN, self).__init__()\n",
    "        self.conv1 = nn.Conv2d(3, 16, kernel_size=3, stride=1, padding=1)\n",
    "        self.conv2 = nn.Conv2d(16, 32, kernel_size=3, stride=1, padding=1)\n",
    "\n",
    "        self.pool = nn.MaxPool2d(kernel_size=2, stride=2, padding=0)\n",
    "\n",
    "        self.fc1 = nn.Linear(32 * 7 * 7, 128)\n",
    "        self.fc2 = nn.Linear(128, 3)\n",
    "\n",
    "    def forward(self, x):\n",
    "        x = self.conv1(x)\n",
    "        x = torch.relu(x)\n",
    "        x = self.pool(x)\n",
    "\n",
    "        x = self.conv2(x)\n",
    "        x = torch.relu(x)\n",
    "        x = self.pool(x)\n",
    "\n",
    "        x = x.view(-1, 32 * 7 * 7)\n",
    "        x = self.fc1(x)\n",
    "        x = torch.relu(x)\n",
    "        x = self.fc2(x)\n",
    "        return x\n"
   ]
  },
  {
   "cell_type": "code",
   "execution_count": 37,
   "metadata": {},
   "outputs": [],
   "source": [
    "model = CNN()\n",
    "\n",
    "criterion = nn.CrossEntropyLoss()\n",
    "optimizer = optim.Adam(model.parameters(), lr=0.001)\n",
    "train_losses = []\n",
    "test_losses = []"
   ]
  },
  {
   "cell_type": "code",
   "execution_count": 38,
   "metadata": {},
   "outputs": [
    {
     "name": "stdout",
     "output_type": "stream",
     "text": [
      "Eochs [1/50], Train Loss: 1.0571, Test Loss: 1.0098\n",
      "Eochs [2/50], Train Loss: 1.0645, Test Loss: 0.9229\n",
      "Eochs [3/50], Train Loss: 1.0360, Test Loss: 0.9023\n",
      "Eochs [4/50], Train Loss: 1.0189, Test Loss: 0.7766\n",
      "Eochs [5/50], Train Loss: 0.9843, Test Loss: 0.8925\n",
      "Eochs [6/50], Train Loss: 0.9528, Test Loss: 0.8314\n",
      "Eochs [7/50], Train Loss: 0.8499, Test Loss: 0.6564\n",
      "Eochs [8/50], Train Loss: 0.7379, Test Loss: 0.7600\n",
      "Eochs [9/50], Train Loss: 0.6278, Test Loss: 0.4009\n",
      "Eochs [10/50], Train Loss: 0.5664, Test Loss: 0.5385\n",
      "Eochs [11/50], Train Loss: 0.5303, Test Loss: 0.4193\n",
      "Eochs [12/50], Train Loss: 0.4172, Test Loss: 0.4380\n",
      "Eochs [13/50], Train Loss: 0.3199, Test Loss: 0.1898\n",
      "Eochs [14/50], Train Loss: 0.3118, Test Loss: 0.2080\n",
      "Eochs [15/50], Train Loss: 0.2556, Test Loss: 0.1729\n",
      "Eochs [16/50], Train Loss: 0.1934, Test Loss: 0.2064\n",
      "Eochs [17/50], Train Loss: 0.1948, Test Loss: 0.0971\n",
      "Eochs [18/50], Train Loss: 0.1485, Test Loss: 0.0937\n",
      "Eochs [19/50], Train Loss: 0.1256, Test Loss: 0.1230\n",
      "Eochs [20/50], Train Loss: 0.1001, Test Loss: 0.0719\n",
      "Eochs [21/50], Train Loss: 0.0802, Test Loss: 0.0577\n",
      "Eochs [22/50], Train Loss: 0.0464, Test Loss: 0.0482\n",
      "Eochs [23/50], Train Loss: 0.0594, Test Loss: 0.0412\n",
      "Eochs [24/50], Train Loss: 0.0534, Test Loss: 0.0469\n",
      "Eochs [25/50], Train Loss: 0.0580, Test Loss: 0.0204\n",
      "Eochs [26/50], Train Loss: 0.0448, Test Loss: 0.0829\n",
      "Eochs [27/50], Train Loss: 0.0373, Test Loss: 0.0486\n",
      "Eochs [28/50], Train Loss: 0.0332, Test Loss: 0.0242\n",
      "Eochs [29/50], Train Loss: 0.0199, Test Loss: 0.0060\n",
      "Eochs [30/50], Train Loss: 0.0279, Test Loss: 0.0201\n",
      "Eochs [31/50], Train Loss: 0.0130, Test Loss: 0.0077\n",
      "Eochs [32/50], Train Loss: 0.0111, Test Loss: 0.0110\n",
      "Eochs [33/50], Train Loss: 0.0075, Test Loss: 0.0058\n",
      "Eochs [34/50], Train Loss: 0.0090, Test Loss: 0.0059\n",
      "Eochs [35/50], Train Loss: 0.0070, Test Loss: 0.0083\n",
      "Eochs [36/50], Train Loss: 0.0060, Test Loss: 0.0041\n",
      "Eochs [37/50], Train Loss: 0.0048, Test Loss: 0.0069\n",
      "Eochs [38/50], Train Loss: 0.0042, Test Loss: 0.0032\n",
      "Eochs [39/50], Train Loss: 0.0046, Test Loss: 0.0038\n",
      "Eochs [40/50], Train Loss: 0.0030, Test Loss: 0.0031\n",
      "Eochs [41/50], Train Loss: 0.0033, Test Loss: 0.0023\n",
      "Eochs [42/50], Train Loss: 0.0028, Test Loss: 0.0030\n",
      "Eochs [43/50], Train Loss: 0.0027, Test Loss: 0.0027\n",
      "Eochs [44/50], Train Loss: 0.0022, Test Loss: 0.0035\n",
      "Eochs [45/50], Train Loss: 0.0025, Test Loss: 0.0024\n",
      "Eochs [46/50], Train Loss: 0.0021, Test Loss: 0.0022\n",
      "Eochs [47/50], Train Loss: 0.0020, Test Loss: 0.0026\n",
      "Eochs [48/50], Train Loss: 0.0021, Test Loss: 0.0013\n",
      "Eochs [49/50], Train Loss: 0.0020, Test Loss: 0.0022\n",
      "Eochs [50/50], Train Loss: 0.0017, Test Loss: 0.0015\n",
      "Model saved to final_model.pth\n"
     ]
    }
   ],
   "source": [
    "def save_model(model, file_path='model.pth'):\n",
    "    torch.save(model.state_dict(), file_path)\n",
    "    print(f\"Model saved to {file_path}\")\n",
    "\n",
    "\n",
    "epochs = 50\n",
    "\n",
    "for epoch in range(epochs):\n",
    "    # Training\n",
    "    epoch_train_loss = 0.0\n",
    "    epoch_test_loss = 0.0\n",
    "\n",
    "    for i, (images, labels) in enumerate(train_loader):\n",
    "        optimizer.zero_grad()\n",
    "\n",
    "        outputs = model(images)\n",
    "        loss = criterion(outputs, labels)\n",
    "        \n",
    "        loss.backward()\n",
    "        optimizer.step()\n",
    "\n",
    "        epoch_train_loss += loss.item()\n",
    "\n",
    "    with torch.no_grad():\n",
    "        for images, labels in test_loader:\n",
    "            outputs = model(images)\n",
    "            loss = criterion(outputs, labels)\n",
    "            epoch_test_loss += loss.item()\n",
    "\n",
    "    \n",
    "    train_loss = epoch_train_loss / len(train_loader)\n",
    "    test_loss = epoch_test_loss / len(test_loader)\n",
    "    print(f\"Eochs [{epoch+1}/{epochs}], Train Loss: {train_loss:.4f}, Test Loss: {test_loss:.4f}\")\n",
    "    train_losses.append(train_loss)\n",
    "    test_losses.append(test_loss)\n",
    "save_model(model, 'final_model.pth')"
   ]
  },
  {
   "cell_type": "code",
   "execution_count": 39,
   "metadata": {},
   "outputs": [
    {
     "data": {
      "image/png": "[encoded data removed]",
      "text/plain": [
       "<Figure size 640x480 with 1 Axes>"
      ]
     },
     "metadata": {},
     "output_type": "display_data"
    }
   ],
   "source": [
    "epochs = range(1, epochs + 1)\n",
    "plt.plot(epochs, train_losses, label='Train loss')\n",
    "plt.plot(epochs, test_losses,label='Test loss')\n",
    "plt.xlabel(\"Epochs\")\n",
    "plt.ylabel(\"Loss\")\n",
    "plt.title(\"Training and Test Loss\")\n",
    "plt.legend()\n",
    "plt.show()"
   ]
  },
  {
   "cell_type": "code",
   "execution_count": null,
   "metadata": {},
   "outputs": [],
   "source": []
  }
 ],
 "metadata": {
  "kernelspec": {
   "display_name": "env_1",
   "language": "python",
   "name": "python3"
  },
  "language_info": {
   "codemirror_mode": {
    "name": "ipython",
    "version": 3
   },
   "file_extension": ".py",
   "mimetype": "text/x-python",
   "name": "python",
   "nbconvert_exporter": "python",
   "pygments_lexer": "ipython3",
   "version": "3.10.14"
  }
 },
 "nbformat": 4,
 "nbformat_minor": 2
}
