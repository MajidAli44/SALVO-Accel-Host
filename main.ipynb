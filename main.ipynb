{
 "cells": [
  {
   "cell_type": "code",
   "execution_count": 44,
   "metadata": {},
   "outputs": [],
   "source": [
    "import torch\n",
    "import os\n",
    "from torchvision import datasets, transforms\n",
    "from torch.utils.data import DataLoader, Dataset\n",
    "from sklearn.model_selection import train_test_split"
   ]
  },
  {
   "cell_type": "code",
   "execution_count": 45,
   "metadata": {},
   "outputs": [],
   "source": [
    "class ShapesDatasets(Dataset):\n",
    "    def __init__(self, root_dir, transform=None):\n",
    "        self.datasets = datasets.ImageFolder(root=root_dir, transform=transform)\n",
    "    \n",
    "    def __len__(self):\n",
    "        return len(self.datasets)\n",
    "    \n",
    "    def __getitem__(self, idx):\n",
    "        return self.datasets[idx]"
   ]
  },
  {
   "cell_type": "code",
   "execution_count": 46,
   "metadata": {},
   "outputs": [],
   "source": [
    "transform = transforms.Compose([\n",
    "    transforms.Resize((28, 28)),\n",
    "\n",
    "    transforms.RandomHorizontalFlip(p=0.5),\n",
    "\n",
    "    transforms.ToTensor(),\n",
    "    transforms.Normalize((0.5,), (0.5,))\n",
    "])"
   ]
  },
  {
   "cell_type": "code",
   "execution_count": 47,
   "metadata": {},
   "outputs": [],
   "source": [
    "file_path = \"./Datasets/shapes/\"\n",
    "dataset = ShapesDatasets(root_dir=file_path, transform=transform)"
   ]
  },
  {
   "cell_type": "code",
   "execution_count": 48,
   "metadata": {},
   "outputs": [
    {
     "data": {
      "text/plain": [
       "300"
      ]
     },
     "execution_count": 48,
     "metadata": {},
     "output_type": "execute_result"
    }
   ],
   "source": [
    "len(dataset)"
   ]
  },
  {
   "cell_type": "code",
   "execution_count": 49,
   "metadata": {},
   "outputs": [
    {
     "data": {
      "text/plain": [
       "([232, 59, 6, 185, 173], [203, 266, 152, 9, 233])"
      ]
     },
     "execution_count": 49,
     "metadata": {},
     "output_type": "execute_result"
    }
   ],
   "source": [
    "train_indices, test_indices = train_test_split(range(len(dataset)), test_size=0.2, random_state=42)\n",
    "train_indices[:5], test_indices[:5]"
   ]
  },
  {
   "cell_type": "code",
   "execution_count": 50,
   "metadata": {},
   "outputs": [],
   "source": [
    "import torch.utils\n",
    "import torch.utils.data\n",
    "\n",
    "\n",
    "train_loader = DataLoader(dataset, batch_size=16, sampler=torch.utils.data.RandomSampler(train_indices))\n",
    "\n",
    "test_loader = DataLoader(dataset, batch_size=16, sampler=torch.utils.data.SequentialSampler(test_indices))"
   ]
  },
  {
   "cell_type": "code",
   "execution_count": 51,
   "metadata": {},
   "outputs": [
    {
     "name": "stdout",
     "output_type": "stream",
     "text": [
      "Batch images shapes:  torch.Size([16, 3, 28, 28])\n",
      "Batch labels shapes:  torch.Size([16])\n",
      "Batch images shapes:  torch.Size([16, 3, 28, 28])\n",
      "Batch labels shapes:  torch.Size([16])\n",
      "Batch images shapes:  torch.Size([16, 3, 28, 28])\n",
      "Batch labels shapes:  torch.Size([16])\n",
      "Batch images shapes:  torch.Size([16, 3, 28, 28])\n",
      "Batch labels shapes:  torch.Size([16])\n",
      "Batch images shapes:  torch.Size([16, 3, 28, 28])\n",
      "Batch labels shapes:  torch.Size([16])\n",
      "Batch images shapes:  torch.Size([16, 3, 28, 28])\n",
      "Batch labels shapes:  torch.Size([16])\n",
      "Batch images shapes:  torch.Size([16, 3, 28, 28])\n",
      "Batch labels shapes:  torch.Size([16])\n",
      "Batch images shapes:  torch.Size([16, 3, 28, 28])\n",
      "Batch labels shapes:  torch.Size([16])\n",
      "Batch images shapes:  torch.Size([16, 3, 28, 28])\n",
      "Batch labels shapes:  torch.Size([16])\n",
      "Batch images shapes:  torch.Size([16, 3, 28, 28])\n",
      "Batch labels shapes:  torch.Size([16])\n",
      "Batch images shapes:  torch.Size([16, 3, 28, 28])\n",
      "Batch labels shapes:  torch.Size([16])\n",
      "Batch images shapes:  torch.Size([16, 3, 28, 28])\n",
      "Batch labels shapes:  torch.Size([16])\n",
      "Batch images shapes:  torch.Size([16, 3, 28, 28])\n",
      "Batch labels shapes:  torch.Size([16])\n",
      "Batch images shapes:  torch.Size([16, 3, 28, 28])\n",
      "Batch labels shapes:  torch.Size([16])\n",
      "Batch images shapes:  torch.Size([16, 3, 28, 28])\n",
      "Batch labels shapes:  torch.Size([16])\n"
     ]
    }
   ],
   "source": [
    "for images, labels in train_loader:\n",
    "    print(\"Batch images shapes: \", images.shape)\n",
    "    print(\"Batch labels shapes: \", labels.shape)"
   ]
  },
  {
   "cell_type": "code",
   "execution_count": 52,
   "metadata": {},
   "outputs": [
    {
     "data": {
      "text/plain": [
       "251"
      ]
     },
     "execution_count": 52,
     "metadata": {},
     "output_type": "execute_result"
    }
   ],
   "source": [
    "index = torch.randint(len(dataset), size=(1,)).item()\n",
    "index"
   ]
  },
  {
   "cell_type": "code",
   "execution_count": 53,
   "metadata": {},
   "outputs": [],
   "source": [
    "import matplotlib.pyplot as plt"
   ]
  },
  {
   "cell_type": "code",
   "execution_count": 54,
   "metadata": {},
   "outputs": [
    {
     "data": {
      "text/plain": [
       "(2, torch.Size([3, 28, 28]))"
      ]
     },
     "execution_count": 54,
     "metadata": {},
     "output_type": "execute_result"
    }
   ],
   "source": [
    "image, label = dataset[index]\n",
    "label, image.shape"
   ]
  },
  {
   "cell_type": "code",
   "execution_count": 55,
   "metadata": {},
   "outputs": [
    {
     "data": {
      "text/plain": [
       "(28, 28, 3)"
      ]
     },
     "execution_count": 55,
     "metadata": {},
     "output_type": "execute_result"
    }
   ],
   "source": [
    "image = image.permute(1,2,0).numpy()\n",
    "image.shape"
   ]
  },
  {
   "cell_type": "code",
   "execution_count": 56,
   "metadata": {},
   "outputs": [
    {
     "name": "stderr",
     "output_type": "stream",
     "text": [
      "Clipping input data to the valid range for imshow with RGB data ([0..1] for floats or [0..255] for integers).\n"
     ]
    },
    {
     "data": {
      "text/plain": [
       "<matplotlib.image.AxesImage at 0x731725917490>"
      ]
     },
     "execution_count": 56,
     "metadata": {},
     "output_type": "execute_result"
    },
    {
     "data": {
      "image/png": "[encoded data removed]",
      "text/plain": [
       "<Figure size 640x480 with 1 Axes>"
      ]
     },
     "metadata": {},
     "output_type": "display_data"
    }
   ],
   "source": [
    "plt.imshow(0.5 * image * 0.5)"
   ]
  },
  {
   "cell_type": "code",
   "execution_count": 57,
   "metadata": {},
   "outputs": [
    {
     "name": "stderr",
     "output_type": "stream",
     "text": [
      "Clipping input data to the valid range for imshow with RGB data ([0..1] for floats or [0..255] for integers).\n",
      "Clipping input data to the valid range for imshow with RGB data ([0..1] for floats or [0..255] for integers).\n",
      "Clipping input data to the valid range for imshow with RGB data ([0..1] for floats or [0..255] for integers).\n",
      "Clipping input data to the valid range for imshow with RGB data ([0..1] for floats or [0..255] for integers).\n",
      "Clipping input data to the valid range for imshow with RGB data ([0..1] for floats or [0..255] for integers).\n",
      "Clipping input data to the valid range for imshow with RGB data ([0..1] for floats or [0..255] for integers).\n",
      "Clipping input data to the valid range for imshow with RGB data ([0..1] for floats or [0..255] for integers).\n",
      "Clipping input data to the valid range for imshow with RGB data ([0..1] for floats or [0..255] for integers).\n",
      "Clipping input data to the valid range for imshow with RGB data ([0..1] for floats or [0..255] for integers).\n",
      "Clipping input data to the valid range for imshow with RGB data ([0..1] for floats or [0..255] for integers).\n"
     ]
    },
    {
     "data": {
      "image/png": "[encoded data removed]",
      "text/plain": [
       "<Figure size 1200x200 with 10 Axes>"
      ]
     },
     "metadata": {},
     "output_type": "display_data"
    }
   ],
   "source": [
    "def show_samples(dataset, num_samples=5):\n",
    "    fig, axes = plt.subplots(1, num_samples, figsize=(12,2))\n",
    "\n",
    "    for i in range(num_samples):\n",
    "        index = torch.randint(len(dataset), size=(1,)).item()\n",
    "        image, label = dataset[index]\n",
    "        image = image.permute(1, 2, 0).numpy()\n",
    "        image = 0.5 * image * 0.5\n",
    "        axes[i].imshow(image)\n",
    "        axes[i].set_title(f\"label: {label}\")\n",
    "        axes[i].axis('off')\n",
    "    plt.show()\n",
    "\n",
    "show_samples(dataset, 10)"
   ]
  },
  {
   "cell_type": "code",
   "execution_count": 58,
   "metadata": {},
   "outputs": [],
   "source": [
    "import torch\n",
    "import torch.nn as nn\n",
    "import torch.optim as optim"
   ]
  },
  {
   "cell_type": "code",
   "execution_count": 59,
   "metadata": {},
   "outputs": [],
   "source": [
    "class CNN(nn.Module):\n",
    "    def __init__(self):\n",
    "        super(CNN, self).__init__()\n",
    "        self.conv1 = nn.Conv2d(3, 16, kernel_size=3, stride=1, padding=1)\n",
    "        self.conv2 = nn.Conv2d(16, 32, kernel_size=3, stride=1, padding=1)\n",
    "\n",
    "        self.pool = nn.MaxPool2d(kernel_size=2, stride=2, padding=0)\n",
    "\n",
    "        self.fc1 = nn.Linear(32 * 7 * 7, 128)\n",
    "        self.fc2 = nn.Linear(128, 3)\n",
    "\n",
    "    def forward(self, x):\n",
    "        x = self.conv1(x)\n",
    "        x = torch.relu(x)\n",
    "        x = self.pool(x)\n",
    "\n",
    "        x = self.conv2(x)\n",
    "        x = torch.relu(x)\n",
    "        x = self.pool(x)\n",
    "\n",
    "        x = x.view(-1, 32 * 7 * 7)\n",
    "        x = self.fc1(x)\n",
    "        x = torch.relu(x)\n",
    "        x = self.fc2(x)\n",
    "        return x"
   ]
  },
  {
   "cell_type": "code",
   "execution_count": 60,
   "metadata": {},
   "outputs": [],
   "source": [
    "model = CNN()\n",
    "\n",
    "criterion = nn.CrossEntropyLoss()\n",
    "optimizer = optim.Adam(model.parameters(), lr=0.001)\n",
    "train_losses = []\n",
    "test_losses = []"
   ]
  },
  {
   "cell_type": "code",
   "execution_count": 61,
   "metadata": {},
   "outputs": [
    {
     "name": "stdout",
     "output_type": "stream",
     "text": [
      "Eochs [1/50], Train Loss: 1.0475, Test Loss: 0.7040\n",
      "Eochs [2/50], Train Loss: 0.9856, Test Loss: 0.8115\n",
      "Eochs [3/50], Train Loss: 0.8784, Test Loss: 0.6658\n",
      "Eochs [4/50], Train Loss: 0.7681, Test Loss: 0.8907\n",
      "Eochs [5/50], Train Loss: 0.6402, Test Loss: 0.3624\n",
      "Eochs [6/50], Train Loss: 0.5357, Test Loss: 0.4876\n",
      "Eochs [7/50], Train Loss: 0.4419, Test Loss: 0.5102\n",
      "Eochs [8/50], Train Loss: 0.3454, Test Loss: 0.3661\n",
      "Eochs [9/50], Train Loss: 0.3001, Test Loss: 0.2717\n",
      "Eochs [10/50], Train Loss: 0.2699, Test Loss: 0.2980\n",
      "Eochs [11/50], Train Loss: 0.2306, Test Loss: 0.2060\n",
      "Eochs [12/50], Train Loss: 0.1512, Test Loss: 0.0715\n",
      "Eochs [13/50], Train Loss: 0.1602, Test Loss: 0.1360\n",
      "Eochs [14/50], Train Loss: 0.0960, Test Loss: 0.0876\n",
      "Eochs [15/50], Train Loss: 0.0885, Test Loss: 0.0573\n",
      "Eochs [16/50], Train Loss: 0.0861, Test Loss: 0.0787\n",
      "Eochs [17/50], Train Loss: 0.1106, Test Loss: 0.0270\n",
      "Eochs [18/50], Train Loss: 0.0895, Test Loss: 0.0429\n",
      "Eochs [19/50], Train Loss: 0.0511, Test Loss: 0.1119\n",
      "Eochs [20/50], Train Loss: 0.0508, Test Loss: 0.0217\n",
      "Eochs [21/50], Train Loss: 0.0358, Test Loss: 0.0176\n",
      "Eochs [22/50], Train Loss: 0.0269, Test Loss: 0.0382\n",
      "Eochs [23/50], Train Loss: 0.0173, Test Loss: 0.0454\n",
      "Eochs [24/50], Train Loss: 0.0138, Test Loss: 0.0249\n",
      "Eochs [25/50], Train Loss: 0.0155, Test Loss: 0.0161\n",
      "Eochs [26/50], Train Loss: 0.0108, Test Loss: 0.0072\n",
      "Eochs [27/50], Train Loss: 0.0103, Test Loss: 0.0106\n",
      "Eochs [28/50], Train Loss: 0.0082, Test Loss: 0.0056\n",
      "Eochs [29/50], Train Loss: 0.0078, Test Loss: 0.0055\n",
      "Eochs [30/50], Train Loss: 0.0059, Test Loss: 0.0056\n",
      "Eochs [31/50], Train Loss: 0.0074, Test Loss: 0.0051\n",
      "Eochs [32/50], Train Loss: 0.0068, Test Loss: 0.0041\n",
      "Eochs [33/50], Train Loss: 0.0044, Test Loss: 0.0051\n",
      "Eochs [34/50], Train Loss: 0.0038, Test Loss: 0.0029\n",
      "Eochs [35/50], Train Loss: 0.0032, Test Loss: 0.0041\n",
      "Eochs [36/50], Train Loss: 0.0034, Test Loss: 0.0028\n",
      "Eochs [37/50], Train Loss: 0.0027, Test Loss: 0.0023\n",
      "Eochs [38/50], Train Loss: 0.0026, Test Loss: 0.0025\n",
      "Eochs [39/50], Train Loss: 0.0024, Test Loss: 0.0022\n",
      "Eochs [40/50], Train Loss: 0.0034, Test Loss: 0.0032\n",
      "Eochs [41/50], Train Loss: 0.0025, Test Loss: 0.0021\n",
      "Eochs [42/50], Train Loss: 0.0020, Test Loss: 0.0015\n",
      "Eochs [43/50], Train Loss: 0.0025, Test Loss: 0.0016\n",
      "Eochs [44/50], Train Loss: 0.0017, Test Loss: 0.0018\n",
      "Eochs [45/50], Train Loss: 0.0016, Test Loss: 0.0026\n",
      "Eochs [46/50], Train Loss: 0.0016, Test Loss: 0.0009\n",
      "Eochs [47/50], Train Loss: 0.0018, Test Loss: 0.0012\n",
      "Eochs [48/50], Train Loss: 0.0014, Test Loss: 0.0016\n",
      "Eochs [49/50], Train Loss: 0.0015, Test Loss: 0.0013\n",
      "Eochs [50/50], Train Loss: 0.0013, Test Loss: 0.0011\n"
     ]
    }
   ],
   "source": [
    "epochs = 50\n",
    "\n",
    "for epoch in range(epochs):\n",
    "    # Training\n",
    "    epoch_train_loss = 0.0\n",
    "    epoch_test_loss = 0.0\n",
    "\n",
    "    for i, (images, labels) in enumerate(train_loader):\n",
    "        optimizer.zero_grad()\n",
    "\n",
    "        outputs = model(images)\n",
    "        loss = criterion(outputs, labels)\n",
    "        \n",
    "        loss.backward()\n",
    "        optimizer.step()\n",
    "\n",
    "        epoch_train_loss += loss.item()\n",
    "\n",
    "    with torch.no_grad():\n",
    "        for images, labels in test_loader:\n",
    "            outputs = model(images)\n",
    "            loss = criterion(outputs, labels)\n",
    "            epoch_test_loss += loss.item()\n",
    "\n",
    "    \n",
    "    train_loss = epoch_train_loss / len(train_loader)\n",
    "    test_loss = epoch_test_loss / len(test_loader)\n",
    "    print(f\"Eochs [{epoch+1}/{epochs}], Train Loss: {train_loss:.4f}, Test Loss: {test_loss:.4f}\")\n",
    "    train_losses.append(train_loss)\n",
    "    test_losses.append(test_loss)"
   ]
  },
  {
   "cell_type": "code",
   "execution_count": null,
   "metadata": {},
   "outputs": [],
   "source": [
    "import torch\n",
    "\n",
    "def save_model(model, file_path='model.pth'):\n",
    "    torch.save(model.state_dict(), file_path)\n",
    "    print(f\"Model saved to {file_path}\")\n",
    "save_model(model, 'model.pth')"
   ]
  },
  {
   "cell_type": "code",
   "execution_count": 62,
   "metadata": {},
   "outputs": [
    {
     "data": {
      "image/png": "[encoded data removed]",
      "text/plain": [
       "<Figure size 640x480 with 1 Axes>"
      ]
     },
     "metadata": {},
     "output_type": "display_data"
    }
   ],
   "source": [
    "epochs = range(1, epochs + 1)\n",
    "plt.plot(epochs, train_losses, label='Train loss')\n",
    "plt.plot(epochs, test_losses,label='Test loss')\n",
    "plt.xlabel(\"Epochs\")\n",
    "plt.ylabel(\"Loss\")\n",
    "plt.title(\"Training and Test Loss\")\n",
    "plt.legend()\n",
    "plt.show()"
   ]
  },
  {
   "cell_type": "code",
   "execution_count": null,
   "metadata": {},
   "outputs": [],
   "source": []
  }
 ],
 "metadata": {
  "kernelspec": {
   "display_name": "env_1",
   "language": "python",
   "name": "python3"
  },
  "language_info": {
   "codemirror_mode": {
    "name": "ipython",
    "version": 3
   },
   "file_extension": ".py",
   "mimetype": "text/x-python",
   "name": "python",
   "nbconvert_exporter": "python",
   "pygments_lexer": "ipython3",
   "version": "3.10.14"
  }
 },
 "nbformat": 4,
 "nbformat_minor": 2
}
